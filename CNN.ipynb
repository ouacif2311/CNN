{
 "cells": [
  {
   "cell_type": "code",
   "execution_count": 1,
   "metadata": {},
   "outputs": [],
   "source": [
    "import numpy as np\n",
    "\n",
    "\n",
    "from tensorflow.keras.models import Sequential ## pour initialiser un réseau\n",
    "from tensorflow.keras import layers\n",
    "from tensorflow.keras.layers import Convolution2D\n",
    "from tensorflow.keras.layers import MaxPooling2D\n",
    "from tensorflow.keras.layers import Flatten, Dropout\n",
    "from tensorflow.keras.layers import Dense\n",
    "from tensorflow.keras.layers import ReLU\n",
    "from keras_preprocessing.image import ImageDataGenerator\n",
    "from keras_preprocessing import image\n",
    "\n",
    "import matplotlib.pyplot as plt\n",
    "%matplotlib inline"
   ]
  },
  {
   "cell_type": "code",
   "execution_count": 3,
   "metadata": {},
   "outputs": [
    {
     "name": "stdout",
     "output_type": "stream",
     "text": [
      "Found 8000 images belonging to 2 classes.\n",
      "Found 2000 images belonging to 2 classes.\n",
      "Epoch 1/75\n",
      "250/250 [==============================] - 31s 121ms/step - loss: 0.6884 - accuracy: 0.5356 - val_loss: 0.6781 - val_accuracy: 0.5860\n",
      "Epoch 2/75\n",
      "250/250 [==============================] - 30s 121ms/step - loss: 0.6399 - accuracy: 0.6365 - val_loss: 0.5881 - val_accuracy: 0.6990\n",
      "Epoch 3/75\n",
      "250/250 [==============================] - 30s 121ms/step - loss: 0.5834 - accuracy: 0.6956 - val_loss: 0.5842 - val_accuracy: 0.7035\n",
      "Epoch 4/75\n",
      "250/250 [==============================] - 30s 121ms/step - loss: 0.5530 - accuracy: 0.7168 - val_loss: 0.5367 - val_accuracy: 0.7355\n",
      "Epoch 5/75\n",
      "250/250 [==============================] - 31s 125ms/step - loss: 0.5248 - accuracy: 0.7396 - val_loss: 0.5109 - val_accuracy: 0.7570\n",
      "Epoch 6/75\n",
      "250/250 [==============================] - 30s 121ms/step - loss: 0.5002 - accuracy: 0.7554 - val_loss: 0.4720 - val_accuracy: 0.7755\n",
      "Epoch 7/75\n",
      "250/250 [==============================] - 30s 121ms/step - loss: 0.4839 - accuracy: 0.7646 - val_loss: 0.4496 - val_accuracy: 0.7890\n",
      "Epoch 8/75\n",
      "250/250 [==============================] - 30s 121ms/step - loss: 0.4651 - accuracy: 0.7746 - val_loss: 0.4469 - val_accuracy: 0.7910\n",
      "Epoch 9/75\n",
      "250/250 [==============================] - 30s 121ms/step - loss: 0.4447 - accuracy: 0.7916 - val_loss: 0.4854 - val_accuracy: 0.7710\n",
      "Epoch 10/75\n",
      "250/250 [==============================] - 30s 121ms/step - loss: 0.4343 - accuracy: 0.7964 - val_loss: 0.4106 - val_accuracy: 0.8145\n",
      "Epoch 11/75\n",
      "250/250 [==============================] - 30s 121ms/step - loss: 0.4161 - accuracy: 0.8106 - val_loss: 0.4265 - val_accuracy: 0.8105\n",
      "Epoch 12/75\n",
      "250/250 [==============================] - 30s 121ms/step - loss: 0.4079 - accuracy: 0.8094 - val_loss: 0.4808 - val_accuracy: 0.7880\n",
      "Epoch 13/75\n",
      "250/250 [==============================] - 30s 121ms/step - loss: 0.3990 - accuracy: 0.8167 - val_loss: 0.4066 - val_accuracy: 0.8175\n",
      "Epoch 14/75\n",
      "250/250 [==============================] - 30s 122ms/step - loss: 0.3869 - accuracy: 0.8275 - val_loss: 0.4302 - val_accuracy: 0.7915\n",
      "Epoch 15/75\n",
      "250/250 [==============================] - 30s 121ms/step - loss: 0.3754 - accuracy: 0.8342 - val_loss: 0.4055 - val_accuracy: 0.8260\n",
      "Epoch 16/75\n",
      "250/250 [==============================] - 30s 121ms/step - loss: 0.3592 - accuracy: 0.8376 - val_loss: 0.3976 - val_accuracy: 0.8180\n",
      "Epoch 17/75\n",
      "250/250 [==============================] - 30s 121ms/step - loss: 0.3598 - accuracy: 0.8367 - val_loss: 0.3896 - val_accuracy: 0.8255\n",
      "Epoch 18/75\n",
      "250/250 [==============================] - 30s 121ms/step - loss: 0.3476 - accuracy: 0.8436 - val_loss: 0.3830 - val_accuracy: 0.8300\n",
      "Epoch 19/75\n",
      "250/250 [==============================] - 30s 121ms/step - loss: 0.3454 - accuracy: 0.8444 - val_loss: 0.4001 - val_accuracy: 0.8205\n",
      "Epoch 20/75\n",
      "250/250 [==============================] - 30s 121ms/step - loss: 0.3276 - accuracy: 0.8574 - val_loss: 0.3987 - val_accuracy: 0.8385\n",
      "Epoch 21/75\n",
      "250/250 [==============================] - 30s 121ms/step - loss: 0.3350 - accuracy: 0.8490 - val_loss: 0.4155 - val_accuracy: 0.8235\n",
      "Epoch 22/75\n",
      "250/250 [==============================] - 30s 122ms/step - loss: 0.3184 - accuracy: 0.8622 - val_loss: 0.3833 - val_accuracy: 0.8225\n",
      "Epoch 23/75\n",
      "250/250 [==============================] - 30s 121ms/step - loss: 0.3205 - accuracy: 0.8576 - val_loss: 0.3660 - val_accuracy: 0.8370\n",
      "Epoch 24/75\n",
      "250/250 [==============================] - 30s 121ms/step - loss: 0.3046 - accuracy: 0.8684 - val_loss: 0.4064 - val_accuracy: 0.8220\n",
      "Epoch 25/75\n",
      "250/250 [==============================] - 30s 121ms/step - loss: 0.3109 - accuracy: 0.8671 - val_loss: 0.3930 - val_accuracy: 0.8250\n",
      "Epoch 26/75\n",
      "250/250 [==============================] - 30s 121ms/step - loss: 0.3013 - accuracy: 0.8636 - val_loss: 0.3726 - val_accuracy: 0.8405\n",
      "Epoch 27/75\n",
      "250/250 [==============================] - 30s 122ms/step - loss: 0.2914 - accuracy: 0.8731 - val_loss: 0.3530 - val_accuracy: 0.8465\n",
      "Epoch 28/75\n",
      "250/250 [==============================] - 30s 121ms/step - loss: 0.2991 - accuracy: 0.8676 - val_loss: 0.3937 - val_accuracy: 0.8335\n",
      "Epoch 29/75\n",
      "250/250 [==============================] - 30s 121ms/step - loss: 0.2860 - accuracy: 0.8740 - val_loss: 0.4438 - val_accuracy: 0.8285\n",
      "Epoch 30/75\n",
      "250/250 [==============================] - 30s 122ms/step - loss: 0.2841 - accuracy: 0.8775 - val_loss: 0.4013 - val_accuracy: 0.8360\n",
      "Epoch 31/75\n",
      "250/250 [==============================] - 30s 122ms/step - loss: 0.2742 - accuracy: 0.8776 - val_loss: 0.3758 - val_accuracy: 0.8425\n",
      "Epoch 32/75\n",
      "250/250 [==============================] - 30s 121ms/step - loss: 0.2777 - accuracy: 0.8800 - val_loss: 0.4034 - val_accuracy: 0.8385\n",
      "Epoch 33/75\n",
      "250/250 [==============================] - 30s 121ms/step - loss: 0.2711 - accuracy: 0.8774 - val_loss: 0.4350 - val_accuracy: 0.8300\n",
      "Epoch 34/75\n",
      "250/250 [==============================] - 30s 122ms/step - loss: 0.2608 - accuracy: 0.8879 - val_loss: 0.4345 - val_accuracy: 0.8340\n",
      "Epoch 35/75\n",
      "250/250 [==============================] - 30s 122ms/step - loss: 0.2704 - accuracy: 0.8874 - val_loss: 0.3808 - val_accuracy: 0.8470\n",
      "Epoch 36/75\n",
      "250/250 [==============================] - 30s 122ms/step - loss: 0.2613 - accuracy: 0.8864 - val_loss: 0.3911 - val_accuracy: 0.8365\n",
      "Epoch 37/75\n",
      "250/250 [==============================] - 30s 121ms/step - loss: 0.2607 - accuracy: 0.8898 - val_loss: 0.4394 - val_accuracy: 0.8240\n",
      "Epoch 38/75\n",
      "250/250 [==============================] - 30s 121ms/step - loss: 0.2544 - accuracy: 0.8914 - val_loss: 0.3804 - val_accuracy: 0.8415\n",
      "Epoch 39/75\n",
      "250/250 [==============================] - 30s 121ms/step - loss: 0.2512 - accuracy: 0.8906 - val_loss: 0.4115 - val_accuracy: 0.8355\n",
      "Epoch 40/75\n",
      "250/250 [==============================] - 30s 122ms/step - loss: 0.2489 - accuracy: 0.8919 - val_loss: 0.4328 - val_accuracy: 0.8300\n",
      "Epoch 41/75\n",
      "250/250 [==============================] - 30s 122ms/step - loss: 0.2467 - accuracy: 0.8891 - val_loss: 0.4608 - val_accuracy: 0.8330\n",
      "Epoch 42/75\n",
      "250/250 [==============================] - 31s 123ms/step - loss: 0.2484 - accuracy: 0.8881 - val_loss: 0.4571 - val_accuracy: 0.8180\n",
      "Epoch 43/75\n",
      "250/250 [==============================] - 30s 122ms/step - loss: 0.2441 - accuracy: 0.8963 - val_loss: 0.3782 - val_accuracy: 0.8405\n",
      "Epoch 44/75\n",
      "250/250 [==============================] - 30s 122ms/step - loss: 0.2443 - accuracy: 0.8941 - val_loss: 0.4294 - val_accuracy: 0.8290\n",
      "Epoch 45/75\n",
      "250/250 [==============================] - 31s 122ms/step - loss: 0.2299 - accuracy: 0.9057 - val_loss: 0.4155 - val_accuracy: 0.8425\n",
      "Epoch 46/75\n",
      "250/250 [==============================] - 30s 122ms/step - loss: 0.2443 - accuracy: 0.8960 - val_loss: 0.4396 - val_accuracy: 0.8515\n",
      "Epoch 47/75\n",
      "250/250 [==============================] - 31s 122ms/step - loss: 0.2314 - accuracy: 0.9019 - val_loss: 0.3806 - val_accuracy: 0.8375\n",
      "Epoch 48/75\n",
      "250/250 [==============================] - 31s 122ms/step - loss: 0.2200 - accuracy: 0.9074 - val_loss: 0.4051 - val_accuracy: 0.8410\n",
      "Epoch 49/75\n",
      "250/250 [==============================] - 30s 121ms/step - loss: 0.2300 - accuracy: 0.9021 - val_loss: 0.3761 - val_accuracy: 0.8405\n",
      "Epoch 50/75\n",
      "250/250 [==============================] - 30s 121ms/step - loss: 0.2133 - accuracy: 0.9103 - val_loss: 0.4319 - val_accuracy: 0.8440\n",
      "Epoch 51/75\n",
      "250/250 [==============================] - 30s 122ms/step - loss: 0.2183 - accuracy: 0.9071 - val_loss: 0.3777 - val_accuracy: 0.8455\n",
      "Epoch 52/75\n",
      "250/250 [==============================] - 30s 122ms/step - loss: 0.2150 - accuracy: 0.9085 - val_loss: 0.4045 - val_accuracy: 0.8390\n",
      "Epoch 53/75\n",
      "250/250 [==============================] - 30s 122ms/step - loss: 0.2190 - accuracy: 0.9072 - val_loss: 0.3751 - val_accuracy: 0.8420\n",
      "Epoch 54/75\n",
      "250/250 [==============================] - 30s 122ms/step - loss: 0.2164 - accuracy: 0.9055 - val_loss: 0.4111 - val_accuracy: 0.8510\n",
      "Epoch 55/75\n",
      "250/250 [==============================] - 30s 121ms/step - loss: 0.2178 - accuracy: 0.9084 - val_loss: 0.3740 - val_accuracy: 0.8350\n",
      "Epoch 56/75\n",
      "250/250 [==============================] - 30s 121ms/step - loss: 0.2133 - accuracy: 0.9082 - val_loss: 0.3813 - val_accuracy: 0.8440\n",
      "Epoch 57/75\n",
      "250/250 [==============================] - 30s 121ms/step - loss: 0.2161 - accuracy: 0.9106 - val_loss: 0.4188 - val_accuracy: 0.8470\n",
      "Epoch 58/75\n",
      "250/250 [==============================] - 30s 121ms/step - loss: 0.2081 - accuracy: 0.9149 - val_loss: 0.4454 - val_accuracy: 0.8490\n",
      "Epoch 59/75\n",
      "250/250 [==============================] - 30s 121ms/step - loss: 0.1984 - accuracy: 0.9171 - val_loss: 0.3967 - val_accuracy: 0.8465\n",
      "Epoch 60/75\n",
      "250/250 [==============================] - 30s 121ms/step - loss: 0.1978 - accuracy: 0.9197 - val_loss: 0.4394 - val_accuracy: 0.8400\n",
      "Epoch 61/75\n",
      "250/250 [==============================] - 30s 121ms/step - loss: 0.2082 - accuracy: 0.9124 - val_loss: 0.4132 - val_accuracy: 0.8420\n",
      "Epoch 62/75\n",
      "250/250 [==============================] - 30s 121ms/step - loss: 0.1977 - accuracy: 0.9150 - val_loss: 0.4142 - val_accuracy: 0.8460\n",
      "Epoch 63/75\n",
      "250/250 [==============================] - 31s 123ms/step - loss: 0.1945 - accuracy: 0.9176 - val_loss: 0.4524 - val_accuracy: 0.8430\n",
      "Epoch 64/75\n",
      "250/250 [==============================] - 30s 121ms/step - loss: 0.1892 - accuracy: 0.9209 - val_loss: 0.4251 - val_accuracy: 0.8460\n",
      "Epoch 65/75\n",
      "250/250 [==============================] - 30s 122ms/step - loss: 0.1895 - accuracy: 0.9211 - val_loss: 0.4494 - val_accuracy: 0.8330\n",
      "Epoch 66/75\n",
      "250/250 [==============================] - 30s 122ms/step - loss: 0.1903 - accuracy: 0.9218 - val_loss: 0.4746 - val_accuracy: 0.8420\n",
      "Epoch 67/75\n",
      "250/250 [==============================] - 30s 122ms/step - loss: 0.1856 - accuracy: 0.9215 - val_loss: 0.4544 - val_accuracy: 0.8345\n",
      "Epoch 68/75\n",
      "250/250 [==============================] - 31s 123ms/step - loss: 0.1882 - accuracy: 0.9210 - val_loss: 0.4857 - val_accuracy: 0.8305\n",
      "Epoch 69/75\n",
      "250/250 [==============================] - 31s 122ms/step - loss: 0.1883 - accuracy: 0.9202 - val_loss: 0.4136 - val_accuracy: 0.8540\n",
      "Epoch 70/75\n",
      "250/250 [==============================] - 30s 122ms/step - loss: 0.1792 - accuracy: 0.9279 - val_loss: 0.4062 - val_accuracy: 0.8350\n",
      "Epoch 71/75\n",
      "250/250 [==============================] - 30s 122ms/step - loss: 0.1721 - accuracy: 0.9319 - val_loss: 0.4376 - val_accuracy: 0.8310\n",
      "Epoch 72/75\n",
      "250/250 [==============================] - 30s 122ms/step - loss: 0.1775 - accuracy: 0.9286 - val_loss: 0.4542 - val_accuracy: 0.8440\n",
      "Epoch 73/75\n",
      "250/250 [==============================] - 30s 122ms/step - loss: 0.1741 - accuracy: 0.9284 - val_loss: 0.4897 - val_accuracy: 0.8405\n",
      "Epoch 74/75\n",
      "250/250 [==============================] - 30s 122ms/step - loss: 0.1830 - accuracy: 0.9262 - val_loss: 0.3929 - val_accuracy: 0.8455\n",
      "Epoch 75/75\n",
      "250/250 [==============================] - 31s 122ms/step - loss: 0.1768 - accuracy: 0.9262 - val_loss: 0.4388 - val_accuracy: 0.8405\n"
     ]
    }
   ],
   "source": [
    "## créer CNN\n",
    "classifier = Sequential() ## pour initialiser mon reseau\n",
    "\n",
    "## ajouter la couche de convolution\n",
    "classifier.add(Convolution2D(filters=32,kernel_size=3,strides=1,input_shape=(64,64,3),activation=\"relu\"))\n",
    "\n",
    "## pooling\n",
    "classifier.add(MaxPooling2D(pool_size=(2,2)))\n",
    "\n",
    "## ajout d'une couche de convolution, sans le input_shape, et de pooling\n",
    "classifier.add(Convolution2D(filters=32,kernel_size=3,strides=1,activation=\"relu\"))\n",
    "classifier.add(MaxPooling2D(pool_size=(2,2)))\n",
    "\n",
    "classifier.add(Convolution2D(filters=32,kernel_size=3,strides=1,activation=\"relu\"))\n",
    "classifier.add(MaxPooling2D(pool_size=(2,2)))\n",
    "\n",
    "classifier.add(Convolution2D(filters=32,kernel_size=3,strides=1,activation=\"relu\"))\n",
    "classifier.add(MaxPooling2D(pool_size=(2,2)))\n",
    "\n",
    "## flatteing\n",
    "classifier.add(Flatten())\n",
    "\n",
    "## couche completement connecté\n",
    "classifier.add(Dense(units=128,activation=\"relu\"))\n",
    "classifier.add(Dense(units=128,activation=\"relu\"))\n",
    "classifier.add(Dense(units=128,activation=\"relu\"))\n",
    "classifier.add(Dropout(0.3))\n",
    "\n",
    "classifier.add(Dense(units=1,activation=\"sigmoid\")) \n",
    "\n",
    "## compilation\n",
    "classifier.compile(optimizer=\"adam\",loss=\"binary_crossentropy\",metrics=[\"accuracy\"])\n",
    "\n",
    "## entrainer un CNN sur nos images\n",
    "train_datagen = ImageDataGenerator(\n",
    "        rescale=1./255,\n",
    "        shear_range=0.2,\n",
    "        zoom_range=0.2,\n",
    "        horizontal_flip=True)\n",
    "test_datagen = ImageDataGenerator(rescale=1./255)\n",
    "train_generator = train_datagen.flow_from_directory(\n",
    "        'training_set',\n",
    "        target_size=(64, 64),\n",
    "        batch_size=32,\n",
    "        class_mode='binary')\n",
    "validation_generator = test_datagen.flow_from_directory(\n",
    "        'test_set',\n",
    "        target_size=(64, 64),\n",
    "        batch_size=32,\n",
    "        class_mode='binary')\n",
    "\n",
    "hist = classifier.fit(\n",
    "        train_generator,\n",
    "        steps_per_epoch=250,\n",
    "        epochs=75,\n",
    "        validation_data=validation_generator,\n",
    "        validation_steps=63)\n"
   ]
  },
  {
   "cell_type": "code",
   "execution_count": 4,
   "metadata": {},
   "outputs": [
    {
     "name": "stdout",
     "output_type": "stream",
     "text": [
      "dict_keys(['loss', 'accuracy', 'val_loss', 'val_accuracy'])\n"
     ]
    }
   ],
   "source": [
    "print(hist.history.keys())"
   ]
  },
  {
   "cell_type": "code",
   "execution_count": 5,
   "metadata": {},
   "outputs": [
    {
     "data": {
      "text/plain": [
       "<matplotlib.legend.Legend at 0x7f80c0d56b80>"
      ]
     },
     "execution_count": 5,
     "metadata": {},
     "output_type": "execute_result"
    },
    {
     "data": {
      "image/png": "[encoded data removed]",
      "text/plain": [
       "<Figure size 432x288 with 1 Axes>"
      ]
     },
     "metadata": {
      "needs_background": "light"
     },
     "output_type": "display_data"
    },
    {
     "data": {
      "image/png": "[encoded data removed]",
      "text/plain": [
       "<Figure size 432x288 with 1 Axes>"
      ]
     },
     "metadata": {
      "needs_background": "light"
     },
     "output_type": "display_data"
    }
   ],
   "source": [
    "train_loss = hist.history['loss']\n",
    "val_loss   = hist.history['val_loss']\n",
    "train_acc  = hist.history['accuracy']\n",
    "val_acc    = hist.history['val_accuracy']\n",
    "\n",
    "fig = plt.figure()\n",
    "plt.subplot(2,1,1)\n",
    "plt.plot(train_acc)\n",
    "plt.plot(val_acc)\n",
    "plt.title('model accuracy')\n",
    "plt.ylabel('accuracy')\n",
    "plt.xlabel('epoch')\n",
    "plt.legend(['train-acc','test-acc'],loc= 'lower right')\n",
    "\n",
    "fig = plt.figure()\n",
    "plt.subplot(2,1,1)\n",
    "plt.plot(train_loss)\n",
    "plt.plot(val_loss)\n",
    "plt.title('model loss')\n",
    "plt.ylabel('loss')\n",
    "plt.xlabel('epoch')\n",
    "plt.legend(['train-loss','val-loss'],loc= 'lower right')"
   ]
  },
  {
   "cell_type": "code",
   "execution_count": 6,
   "metadata": {},
   "outputs": [
    {
     "name": "stdout",
     "output_type": "stream",
     "text": [
      "chien\n"
     ]
    }
   ],
   "source": [
    "test_image = image.load_img(\"des-chiens-renifleurs-decouvrent-des-sepultures-vieilles-de-3000-ans-en-croatie.jpg\",target_size=(64,64))\n",
    "test_image = image.img_to_array(test_image)\n",
    "test_image = np.expand_dims(test_image, axis = 0)\n",
    "res = classifier.predict(test_image)\n",
    "train_generator.class_indices\n",
    "\n",
    "if res[0][0] == 1:\n",
    "    prediction = \"chien\"\n",
    "    print(\"chien\")\n",
    "else:\n",
    "    prediction = \"chat\"\n",
    "    print(\"chat\")"
   ]
  },
  {
   "cell_type": "code",
   "execution_count": 7,
   "metadata": {},
   "outputs": [
    {
     "name": "stdout",
     "output_type": "stream",
     "text": [
      "chat\n"
     ]
    }
   ],
   "source": [
    "\n",
    "test_image = image.load_img(\"comment-soigner-une-plaie-dun-chat.jpg\",target_size=(64,64))\n",
    "test_image = image.img_to_array(test_image)\n",
    "test_image = np.expand_dims(test_image, axis = 0)\n",
    "res = classifier.predict(test_image)\n",
    "train_generator.class_indices\n",
    "\n",
    "if res[0][0] == 1:\n",
    "    prediction = \"chien\"\n",
    "    print(\"chien\")\n",
    "else:\n",
    "    prediction = \"chat\"\n",
    "    print(\"chat\")"
   ]
  },
  {
   "cell_type": "code",
   "execution_count": null,
   "metadata": {},
   "outputs": [],
   "source": []
  }
 ],
 "metadata": {
  "kernelspec": {
   "display_name": "Python 3",
   "language": "python",
   "name": "python3"
  },
  "language_info": {
   "codemirror_mode": {
    "name": "ipython",
    "version": 3
   },
   "file_extension": ".py",
   "mimetype": "text/x-python",
   "name": "python",
   "nbconvert_exporter": "python",
   "pygments_lexer": "ipython3",
   "version": "3.8.5"
  },
  "toc": {
   "base_numbering": 1,
   "nav_menu": {},
   "number_sections": false,
   "sideBar": false,
   "skip_h1_title": false,
   "title_cell": "Table of Contents",
   "title_sidebar": "Contents",
   "toc_cell": false,
   "toc_position": {},
   "toc_section_display": false,
   "toc_window_display": false
  }
 },
 "nbformat": 4,
 "nbformat_minor": 4
}
